{
 "cells": [
  {
   "cell_type": "markdown",
   "metadata": {},
   "source": [
    "# Downloading data"
   ]
  },
  {
   "cell_type": "markdown",
   "metadata": {},
   "source": [
    "Radiation quantities: https://www.ecmwf.int/sites/default/files/elibrary/2015/18490-radiation-quantities-ecmwf-model-and-mars.pdf\n",
    "\n",
    "To convert an instantaneous pyrheliometer flux to the flux into a flat horizontal plane, multiply it by cos(θ0), where θ0 is the solar zenith angle\n",
    "\n",
    "* ssrd - Surface solar radiation downwards - the amount of solar radiation (also known as shortwave radiation) that reaches a horizontal plane at the surface of the Earth. This parameter comprises both direct and diffuse solar radiation.(https://apps.ecmwf.int/codes/grib/param-db/?id=169)\n",
    "* fdir - Total sky direct solar radiation at surface -  the amount of direct solar radiation (also known as shortwave radiation) reaching the surface of the Earth. It is the amount of radiation passing through a horizontal plane, not a plane perpendicular to the direction of the Sun.\n",
    "* diffuse radiation = ssrd - fdir\n",
    "\n",
    "Other:\n",
    "* dsrp - direct solar radiation (perpendicular to sun) https://apps.ecmwf.int/codes/grib/param-db/?id=47\n",
    "* vddsf - Visible Diffuse Downward Solar Flux (https://apps.ecmwf.int/codes/grib/param-db/?id=260347)\n",
    "* vbdsf - Visible Beam Downward Solar Flux (W/m2) (https://apps.ecmwf.int/codes/grib/param-db/?id=260346)"
   ]
  },
  {
   "cell_type": "code",
   "execution_count": 1,
   "metadata": {},
   "outputs": [],
   "source": [
    "import cdsapi\n",
    "c = cdsapi.Client()"
   ]
  },
  {
   "cell_type": "code",
   "execution_count": null,
   "metadata": {},
   "outputs": [
    {
     "name": "stderr",
     "output_type": "stream",
     "text": [
      "2021-09-10 16:24:19,658 INFO Welcome to the CDS\n",
      "2021-09-10 16:24:19,661 INFO Sending request to https://cds.climate.copernicus.eu/api/v2/resources/reanalysis-era5-single-levels\n",
      "2021-09-10 16:24:19,782 INFO Request is queued\n",
      "2021-09-10 16:25:56,794 WARNING Recovering from connection error [('Connection aborted.', ConnectionResetError(10054, 'An existing connection was forcibly closed by the remote host', None, 10054, None))], attemps 0 of 500\n",
      "2021-09-10 16:25:56,795 WARNING Retrying in 120 seconds\n",
      "2021-09-10 16:27:56,810 INFO Retrying now...\n"
     ]
    }
   ],
   "source": [
    "# Download data\n",
    "# temperature at pressure level 1000 hPa\n",
    "data1 = {\n",
    "    \"product_type\": \"reanalysis\",\n",
    "    \"variable\": \"temperature\",\n",
    "    \"pressure_level\": \"1000\",\n",
    "    \"year\": \"2008\",\n",
    "    \"month\": \"01\",\n",
    "    \"day\": \"01\",\n",
    "    \"time\": \"12:00\",\n",
    "    \"area\": [70, -5, 50, 15], # North, West, South, East. Default: global\n",
    "#    \"grid\": [1.0, 1.0], # Latitude/longitude grid: east-west (longitude) and north-south resolution (latitude). Default: 0.25 x 0.25    \n",
    "    \"format\": \"grib\" # may be netcdf\n",
    "}\n",
    "data_ssrd = {\n",
    "    \"product_type\": \"reanalysis\",\n",
    "    \"variable\": 'surface_solar_radiation_downwards',\n",
    "    \"pressure_level\": \"1000\",\n",
    "    \"year\": \"2008\",\n",
    "    \"month\": \"03\",\n",
    "    \"day\": \"01\",\n",
    "    'time' : ['{:02d}:00'.format(x) for x in range(24)],\n",
    "    'area': [70, -10, 50,20,],\n",
    "    \"format\": \"netcdf\" # may be netcdf\n",
    "}\n",
    "data_surface = {\n",
    "        'format': 'netcdf',\n",
    "#        'variable': ['10m_u_component_of_wind', '10m_v_component_of_wind',\n",
    "#                     '2m_temperature','surface_solar_radiation_downwards',],\n",
    "        'variable': 'surface_solar_radiation_downwards',\n",
    "        'year': '2018',\n",
    "        'month': '03',\n",
    "        'day': '01',\n",
    "        'time' : ['{:02d}:00'.format(x) for x in range(24)],\n",
    "        'area': [70, -10, 50,20,],\n",
    "    }\n",
    "data_singlelevel = {\n",
    "        'format': 'netcdf',\n",
    "        'product_type': 'reanalysis',\n",
    "        'variable': ['ssrd','fdir'],\n",
    "        'year': '2018',\n",
    "        'month': '03',\n",
    "        'time' : ['{:02d}:00'.format(x) for x in range(24)],\n",
    "        'area': [70, -10, 50,20,],\n",
    "    } \n",
    "data_test = {\n",
    "        'variable': '2m_temperature',\n",
    "        'product_type': 'reanalysis',\n",
    "        'year': '2017',\n",
    "        'month': '01',\n",
    "        'day': ['01', '02'],\n",
    "        'time': ['00:00', '12:00'],\n",
    "        'area': ['35.5', '6.5', '47.', '19.'],\n",
    "        'format': 'grib',\n",
    "        },\n",
    "\n",
    "#c.retrieve(\"reanalysis-era5-pressure-levels\",data1,\"test.grb\")\n",
    "#c.retrieve('reanalysis-era5-pressure-levels',data_ssrd,\"pressure.nc\")\n",
    "#c.retrieve('reanalysis-era5-land',data_surface,\"surface.nc\")\n",
    "#c.retrieve('reanalysis-era5-single-levels',data_test,\"surface_singlelevel.grb\")\n",
    "c.retrieve('reanalysis-era5-single-levels',data_singlelevel,\"surface_singlelevel.nc\")\n"
   ]
  },
  {
   "cell_type": "code",
   "execution_count": null,
   "metadata": {},
   "outputs": [],
   "source": []
  }
 ],
 "metadata": {
  "kernelspec": {
   "display_name": "Python 3 (ipykernel)",
   "language": "python",
   "name": "python3"
  },
  "language_info": {
   "codemirror_mode": {
    "name": "ipython",
    "version": 3
   },
   "file_extension": ".py",
   "mimetype": "text/x-python",
   "name": "python",
   "nbconvert_exporter": "python",
   "pygments_lexer": "ipython3",
   "version": "3.9.7"
  }
 },
 "nbformat": 4,
 "nbformat_minor": 4
}
